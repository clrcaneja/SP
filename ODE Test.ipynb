{
 "cells": [
  {
   "cell_type": "markdown",
   "id": "6bb437dd",
   "metadata": {},
   "source": [
    "# Test Code for Network ODE Simulation\n",
    "\n",
    "We begin by setting up the network and assigning nodes in initial compartments that is, S is approximately N and I >> 0"
   ]
  },
  {
   "cell_type": "code",
   "execution_count": 62,
   "id": "2f798e02",
   "metadata": {},
   "outputs": [
    {
     "name": "stderr",
     "output_type": "stream",
     "text": [
      "C:\\Users\\claire\\AppData\\Local\\Temp\\ipykernel_5616\\1185903838.py:21: DeprecationWarning: Sampling from a set deprecated\n",
      "since Python 3.9 and will be removed in a subsequent version.\n",
      "  r_nodes = random.sample(G.nodes(), r)\n"
     ]
    }
   ],
   "source": [
    "import networkx as nx\n",
    "import matplotlib.pyplot as plt\n",
    "import numpy as np\n",
    "import random\n",
    "from scipy.integrate import odeint\n",
    "\n",
    "\n",
    "# define parameters\n",
    "n = 50 # number of nodes\n",
    "p = 0.2 # edge probability\n",
    "r = 5 # number of nodes in R compartment\n",
    "\n",
    "# create the graph\n",
    "G = nx.erdos_renyi_graph(n, p)\n",
    "\n",
    "# add the 'compartment' attribute to all nodes\n",
    "for node in G.nodes():\n",
    "    G.nodes[node]['compartment'] = 'S'\n",
    "\n",
    "# randomly select r nodes to assign to the R compartment\n",
    "r_nodes = random.sample(G.nodes(), r)\n",
    "for node in r_nodes:\n",
    "    G.nodes[node]['compartment'] = 'I'\n",
    "\n",
    "# print the compartments for all nodes\n",
    "#for node in G.nodes():\n",
    "#    print(f\"Node {node} is in compartment {G.nodes[node]['compartment']}\")\n"
   ]
  },
  {
   "cell_type": "markdown",
   "id": "a060dbca",
   "metadata": {},
   "source": [
    "We then get the degree distribution of the network"
   ]
  },
  {
   "cell_type": "code",
   "execution_count": 63,
   "id": "59bafc24",
   "metadata": {},
   "outputs": [
    {
     "data": {
      "image/png": "[encoded data removed]",
      "text/plain": [
       "<Figure size 432x288 with 1 Axes>"
      ]
     },
     "metadata": {
      "needs_background": "light"
     },
     "output_type": "display_data"
    },
    {
     "data": {
      "text/plain": [
       "10"
      ]
     },
     "execution_count": 63,
     "metadata": {},
     "output_type": "execute_result"
    }
   ],
   "source": [
    "# get the degree distribution \n",
    "#returns list of degree frequencies; i.e. hist[i] = c, there are c nodes with degree i\n",
    "hist = nx.degree_histogram(G)\n",
    "\n",
    "# plot the degree distribution\n",
    "plt.bar(range(len(hist)), hist)\n",
    "plt.xlabel('Degree')\n",
    "plt.ylabel('Number of nodes')\n",
    "plt.show()\n",
    "\n",
    "\n",
    "G.degree(5)"
   ]
  },
  {
   "cell_type": "markdown",
   "id": "a927ebe3",
   "metadata": {},
   "source": [
    "Some test runs to understand the code setup. Note that lists use 0-base indexing in python."
   ]
  },
  {
   "cell_type": "code",
   "execution_count": 64,
   "id": "e362da08",
   "metadata": {},
   "outputs": [
    {
     "name": "stdout",
     "output_type": "stream",
     "text": [
      "degree sequence: [16, 16, 15, 15, 15, 13, 11, 11, 10, 10, 10, 10, 10, 10, 10, 10, 10, 10, 10, 10, 9, 9, 9, 9, 9, 9, 8, 8, 8, 8, 8, 8, 8, 7, 7, 7, 7, 7, 7, 6, 6, 6, 5, 5, 5, 5, 5, 4, 4, 3]\n",
      "degree distribution: [0, 0, 0, 1, 2, 5, 3, 6, 7, 6, 12, 2, 0, 1, 0, 3, 2]\n",
      "[0, 0, 0, 1, 2, 5, 3, 6, 7, 6, 12, 2, 0, 1, 0, 3, 2]\n",
      "1\n"
     ]
    }
   ],
   "source": [
    "# TO TRACK\n",
    "degree_sequence = sorted([d for n, d in G.degree()], reverse=True)  # sorted degree sequence\n",
    "dhist = [degree_sequence.count(i) for i in range(max(degree_sequence) + 1)]  # degree histogram also equal to hist\n",
    "\n",
    "print(\"degree sequence:\", degree_sequence)\n",
    "print(\"degree distribution:\", dhist)\n",
    "\n",
    "\n",
    "print(hist)\n",
    "# prints: [0, 0, 0, 1, 4, 3, 4, 4, 9, 5, 6, 8, 4, 0, 0, 1, 1]\n",
    "# all degree k: 3, 4, 5, 6, 7, 8, 9, 10, 11, 12, 15, 16 \n",
    "\n",
    "print(hist[3]) # nodes with degree 3 --> hist[k] = no. of nodes with degree k"
   ]
  },
  {
   "cell_type": "markdown",
   "id": "ffc087b2",
   "metadata": {},
   "source": [
    "To find all nodes in each compartment:"
   ]
  },
  {
   "cell_type": "code",
   "execution_count": 66,
   "id": "12112738",
   "metadata": {},
   "outputs": [
    {
     "data": {
      "text/plain": [
       "[{1: {'compartment': 'S'},\n",
       "  2: {'compartment': 'S'},\n",
       "  3: {'compartment': 'S'},\n",
       "  4: {'compartment': 'S'},\n",
       "  5: {'compartment': 'S'},\n",
       "  8: {'compartment': 'S'},\n",
       "  10: {'compartment': 'S'},\n",
       "  11: {'compartment': 'S'},\n",
       "  12: {'compartment': 'S'},\n",
       "  13: {'compartment': 'S'},\n",
       "  14: {'compartment': 'S'},\n",
       "  15: {'compartment': 'S'},\n",
       "  16: {'compartment': 'S'},\n",
       "  17: {'compartment': 'S'},\n",
       "  18: {'compartment': 'S'},\n",
       "  19: {'compartment': 'S'},\n",
       "  20: {'compartment': 'S'},\n",
       "  21: {'compartment': 'S'},\n",
       "  22: {'compartment': 'S'},\n",
       "  23: {'compartment': 'S'},\n",
       "  24: {'compartment': 'S'},\n",
       "  25: {'compartment': 'S'},\n",
       "  26: {'compartment': 'S'},\n",
       "  27: {'compartment': 'S'},\n",
       "  28: {'compartment': 'S'},\n",
       "  29: {'compartment': 'S'},\n",
       "  30: {'compartment': 'S'},\n",
       "  31: {'compartment': 'S'},\n",
       "  33: {'compartment': 'S'},\n",
       "  34: {'compartment': 'S'},\n",
       "  35: {'compartment': 'S'},\n",
       "  36: {'compartment': 'S'},\n",
       "  37: {'compartment': 'S'},\n",
       "  38: {'compartment': 'S'},\n",
       "  39: {'compartment': 'S'},\n",
       "  40: {'compartment': 'S'},\n",
       "  41: {'compartment': 'S'},\n",
       "  42: {'compartment': 'S'},\n",
       "  43: {'compartment': 'S'},\n",
       "  44: {'compartment': 'S'},\n",
       "  45: {'compartment': 'S'},\n",
       "  46: {'compartment': 'S'},\n",
       "  47: {'compartment': 'S'},\n",
       "  48: {'compartment': 'S'},\n",
       "  49: {'compartment': 'S'}},\n",
       " {},\n",
       " {0: {'compartment': 'I'},\n",
       "  6: {'compartment': 'I'},\n",
       "  7: {'compartment': 'I'},\n",
       "  9: {'compartment': 'I'},\n",
       "  32: {'compartment': 'I'}},\n",
       " {}]"
      ]
     },
     "execution_count": 66,
     "metadata": {},
     "output_type": "execute_result"
    }
   ],
   "source": [
    "def CompartmentNodes(G):\n",
    "    # get dictionary of nodes i that are in each compartment: {i: {'compartment' = 'S'}}\n",
    "    Susceptibles = {i: G.nodes[i] for i in G.nodes if G.nodes[i]['compartment'] == 'S'}\n",
    "    Exposed = {i: G.nodes[i] for i in G.nodes if G.nodes[i]['compartment'] == 'E'}\n",
    "    Infecteds = {i: G.nodes[i] for i in G.nodes if G.nodes[i]['compartment'] == 'I'}\n",
    "    Removed = {i: G.nodes[i] for i in G.nodes if G.nodes[i]['compartment'] == 'R'}\n",
    "    \n",
    "    # returns list of dicts [{Susceptibles}, {Exposed}, {Infecteds}, {Removed}]\n",
    "    # i= 0,1,2,3 in CompartmentNodes(G)[i] returns S, E, I, or R, respectively\n",
    "    return [Susceptibles, Exposed, Infecteds, Removed]\n",
    "\n",
    "#CompartmentNodes(G)"
   ]
  },
  {
   "cell_type": "markdown",
   "id": "ba89d142",
   "metadata": {},
   "source": [
    "Now, we need to list all possible degrees k in the network (those of nonzero degrees)."
   ]
  },
  {
   "cell_type": "code",
   "execution_count": 67,
   "id": "769c0e21",
   "metadata": {},
   "outputs": [
    {
     "name": "stdout",
     "output_type": "stream",
     "text": [
      "[3, 4, 5, 6, 7, 8, 9, 10, 11, 13, 15, 16]\n"
     ]
    }
   ],
   "source": [
    "# for each degree k and degree frequency in the distribution\n",
    "# return indices of nonzero values in list, i.e. the nonzero degrees in the network\n",
    "degrees = [k for k, dfreq in enumerate(hist) if dfreq != 0] \n",
    "print(degrees)"
   ]
  },
  {
   "cell_type": "markdown",
   "id": "ca5a8950",
   "metadata": {},
   "source": [
    "From the degree distribution, for each degree k, we need to\n",
    "1. Find all nodes with degree k\n",
    "2. Find the nodes in each compartment with degree k, i.e. the nodes S_k, E_k, I_k, R_k\n",
    "\n",
    "The first one is done by creating a function that will return the list of nodes that satisfy the given degree. This function creates two lists: \n",
    "1. a list of int values of the indices of the nodes that satisfy the given degree k\n",
    "2. a list of dict values of the compartments of the nodes in 1\n",
    "\n",
    "To be able to check and access these values, it is more convenient to store them in a dictionary that will contain both indices and nodes dicts. Because we will still be using the indices later, this function returns all three: (1) index list, (2) node list, and (3) dictionary of index and node list."
   ]
  },
  {
   "cell_type": "code",
   "execution_count": 68,
   "id": "1ff91c8c",
   "metadata": {},
   "outputs": [
    {
     "name": "stdout",
     "output_type": "stream",
     "text": [
      "indices:  [0, 1, 5, 11, 13, 17, 18, 38, 39, 41, 48, 49]\n"
     ]
    },
    {
     "data": {
      "text/plain": [
       "7"
      ]
     },
     "execution_count": 68,
     "metadata": {},
     "output_type": "execute_result"
    }
   ],
   "source": [
    "# nodes with degree k\n",
    "\n",
    "# function to return nodes of degree k\n",
    "# NOTE RETURNS INT TYPE NOT NODE DICT i.e. will not store node name only compartment\n",
    "def nodesWithDegreeK(network, k):\n",
    "    node_index = [index for index, degree in network.degree() if degree == k]\n",
    "    nodelist = []\n",
    "    \n",
    "    for i in node_index:\n",
    "        nodelist.append(G.nodes[i])\n",
    "        \n",
    "    # return list of nodes in index form (to iterate over graph properties)\n",
    "    # and the list in dict form of their compartments\n",
    "    return node_index, nodelist, dict(zip(node_index, nodelist))\n",
    "\n",
    "# TEST\n",
    "indices, nodesK, dictresults = nodesWithDegreeK(G, 10)\n",
    "print(\"indices: \", indices)\n",
    "#print(\"nodes: \", nodesK)\n",
    "#print(\"dict: \", dictresults)\n",
    "hist[8]"
   ]
  },
  {
   "cell_type": "markdown",
   "id": "3c40327a",
   "metadata": {},
   "source": [
    "We then create another function that will return the dictionary of nodes in each compartment that satisfy some degree k."
   ]
  },
  {
   "cell_type": "code",
   "execution_count": 69,
   "id": "f11dab00",
   "metadata": {},
   "outputs": [],
   "source": [
    "def CompartmentNodesDegreeK(network, k):\n",
    "    indices, nodes_degree_k, nodesK = nodesWithDegreeK(network, k)    # recovers indices, nodes, and dict for nodes of degree k\n",
    "    nodes_S_k, nodes_E_k, nodes_I_k, nodes_R_k = [], [], [], []       # list to contain nodes of degree k per compartment\n",
    "    \n",
    "    # create dict of nodes with degree k s.t. they are in S, E, I, or R\n",
    "    \n",
    "    nodes_S_k = {i: nodesK[i] for i in nodesK if nodesK[i]['compartment'] == 'S'}        \n",
    "    #print(\"Susceptible nodes with degree \", k, \": \", nodes_S_k)\n",
    "    \n",
    "    nodes_E_k = {i: nodesK[i] for i in nodesK if nodesK[i]['compartment'] == 'E'}        \n",
    "    #print(\"Exposed nodes with degree \", k, \": \", nodes_E_k)\n",
    "    \n",
    "    nodes_I_k = {i: nodesK[i] for i in nodesK if nodesK[i]['compartment'] == 'I'}        \n",
    "    #print(\"Infected nodes with degree \", k, \": \", nodes_I_k)\n",
    "    \n",
    "    nodes_R_k = {i: nodesK[i] for i in nodesK if nodesK[i]['compartment'] == 'R'}        \n",
    "    #print(\"Removed nodes with degree \", k, \": \", nodes_R_k)\n",
    "    \n",
    "    # returns a list of the dictionaries for easy access\n",
    "    return [nodes_S_k, nodes_E_k, nodes_I_k, nodes_R_k]"
   ]
  },
  {
   "cell_type": "markdown",
   "id": "454e8807",
   "metadata": {},
   "source": [
    "We iterate this function over all values k in the degree distribution."
   ]
  },
  {
   "cell_type": "code",
   "execution_count": 79,
   "id": "2b62d372",
   "metadata": {},
   "outputs": [
    {
     "name": "stdout",
     "output_type": "stream",
     "text": [
      "11\n"
     ]
    }
   ],
   "source": [
    "# for each degree k, \n",
    "for k in degrees:\n",
    "    S, E, I, R = CompartmentNodesDegreeK(G, k)\n",
    "    #print(\"S\", S, \"\\nE\", E, \"\\nI\", I, \"\\nR\", R)\n",
    "    #print(\"Nodes of degree \", k, \":\\n\", CompartmentNodesDegreeK(G, k))\n",
    "\n",
    "print(len(CompartmentNodesDegreeK(G, 10)[0])) # infecteds degree 10"
   ]
  },
  {
   "cell_type": "markdown",
   "id": "54143433",
   "metadata": {},
   "source": [
    "To solve for the infection connectivity Phi, we first need to find all nodes with some degree k whose neighbors are infected and have some degree k'. That is, we need to find the infected neighbors of the nodes with degree k. To do this,\n",
    "1. Access all nodes with degree k, let v_k\n",
    "2. Get the degree distribution of the neighbors of v_k\n",
    "3. For each degree k' in the degree distribution in (2), \n",
    "  - Find the frequency of each degree k'\n",
    "  - Compute: k * P(k') * I_k\n",
    "  - Sum up these products for all values k' in the distribution\n",
    "4. Divide the sum in (3) by the average degree kmean (for consistency with builtin notations)\n",
    "\n",
    "We note that the probability of a node having degree k and of having degree k' are independent of each other. That is, the probability of a node having degree k' given it is connected to one having degree k are independent, i.e. P(k'|k) = P(k'). Since k' and k are arbitrary, P(k') = P(k)."
   ]
  },
  {
   "cell_type": "code",
   "execution_count": 88,
   "id": "304aad84",
   "metadata": {},
   "outputs": [
    {
     "name": "stdout",
     "output_type": "stream",
     "text": [
      "<class 'float'>\n",
      "0.7191780821917808\n"
     ]
    }
   ],
   "source": [
    "def Phi(network, degreesK, deg_hist):\n",
    "    sum, kmean = 0, 0 # will hold sum for average degree\n",
    "    \n",
    "    for k in degreesK:\n",
    "        I_k = len(CompartmentNodesDegreeK(network, k)[2])\n",
    "        P_k = deg_hist[k]\n",
    "        kmean = kmean + (k*P_k)\n",
    "        \n",
    "        sum = sum + (k*P_k*I_k)\n",
    "        \n",
    "        # To Track\n",
    "        #print(\"\\nDegree \", k, \"\\n\")\n",
    "        #print(\"I_k: \", I_k, \"\\nP_k: \", P_k, \"\\nAve degree: \", kmean, \"\\nSummation: \", sum )\n",
    "    \n",
    "    return sum/kmean\n",
    "\n",
    "print(type(Phi(G, degrees, hist)))\n",
    "Phi = Phi(G, degrees, hist)\n",
    "print(Phi)"
   ]
  },
  {
   "cell_type": "code",
   "execution_count": 80,
   "id": "0c58b8dd",
   "metadata": {},
   "outputs": [],
   "source": [
    "k = 10\n",
    "\n",
    "ODEparam = dict()\n",
    "ODEparam['lambda'] = 0.1\n",
    "ODEparam['epsilon'] = 0.04\n",
    "ODEparam['gamma'] = 0.1\n",
    "ODEparam['Phi'] = Phi\n",
    "\n",
    "# initial conditions from network at t=0\n",
    "S_k = len(CompartmentNodesDegreeK(G, k)[0])\n",
    "E_k = len(CompartmentNodesDegreeK(G, k)[1])\n",
    "I_k = len(CompartmentNodesDegreeK(G, k)[2])\n",
    "R_k = len(CompartmentNodesDegreeK(G, k)[3])\n",
    "    \n",
    "initial_conditions = [S_k, E_k, I_k, R_k]\n",
    "\n",
    "def networkODE(t, k, initial_conditions, ODEparam):\n",
    "    # initial conditions from network at t=0\n",
    "#    S_k = len(CompartmentNodesDegreeK(G, k)[0])\n",
    "#    E_k = len(CompartmentNodesDegreeK(G, k)[1])\n",
    "#    I_k = len(CompartmentNodesDegreeK(G, k)[2])\n",
    "#    R_k = len(CompartmentNodesDegreeK(G, k)[3])\n",
    "    \n",
    "#    initial_conditions = [S_k, E_k, I_k, R_k]\n",
    "    \n",
    "    _lambda = ODEparam['lambda']\n",
    "    epsilon = ODEparam['epsilon']\n",
    "    gamma = ODEparam['gamma']\n",
    "    Phi = ODEparam['Phi']\n",
    "    \n",
    "    def ODE(initial_conditions, t, k):\n",
    "        \n",
    "        deltaS_k = -_lambda*k*S_k*Phi\n",
    "        deltaE_k = (_lambda*k*S_k*Phi) - (epsilon*E_k)\n",
    "        deltaI_k = (epsilon*E_k)-(gamma*I_k)\n",
    "        deltaR_k = gamma*I_k\n",
    "        \n",
    "        return [deltaS_k, deltaE_k, deltaI_k, deltaR_k]\n",
    "    \n",
    "    # find numerical solution to ode\n",
    "    #soln = odeint(ODE, initial_conditions, t)\n",
    "    \n",
    "    #return soln\n",
    "    return odeint(ODE, initial_conditions, t, args = (k,))\n"
   ]
  },
  {
   "cell_type": "code",
   "execution_count": 109,
   "id": "b06a53e5",
   "metadata": {},
   "outputs": [
    {
     "data": {
      "image/png": "[encoded data removed]",
      "text/plain": [
       "<Figure size 720x576 with 1 Axes>"
      ]
     },
     "metadata": {
      "needs_background": "light"
     },
     "output_type": "display_data"
    }
   ],
   "source": [
    "# TEST SINGLE PARAMETER SET\n",
    "\n",
    "t = np.arange(20)\n",
    "soln = networkODE(t, 3, initial_conditions, ODEparam)\n",
    "\n",
    "S = soln[:, 0]\n",
    "E = soln[:, 1]\n",
    "I = soln[:, 2]\n",
    "R = soln[:, 3]\n",
    "\n",
    "#print(S, E, I, R)       # to check\n",
    "    \n",
    "fig, ax = plt.subplots(figsize=(10, 8))\n",
    "labels = ['Susceptible', 'Exposed', 'Infected', 'Recovered']\n",
    "colors= ['blue', 'orange', 'red', 'green']\n",
    "for i in range(4):\n",
    "    ax.plot(t, soln[:, i], label=labels[i], color=colors[i])\n",
    "ax.set_xlabel('days')\n",
    "ax.set_ylabel('Number of Individuals')\n",
    "ax.legend();"
   ]
  },
  {
   "cell_type": "markdown",
   "id": "c815d8cb",
   "metadata": {},
   "source": [
    "### Interactive Plots"
   ]
  },
  {
   "cell_type": "code",
   "execution_count": 13,
   "id": "adc69416",
   "metadata": {},
   "outputs": [
    {
     "data": {
      "application/vnd.jupyter.widget-view+json": {
       "model_id": "70b86aa8c18b4b50b324a44edc5abb10",
       "version_major": 2,
       "version_minor": 0
      },
      "text/plain": [
       "VBox(children=(Label(value='Hello World!'), IntSlider(value=0, max=30, min=-10), Checkbox(value=False, descrip…"
      ]
     },
     "metadata": {},
     "output_type": "display_data"
    }
   ],
   "source": [
    "from ipywidgets import interact, FloatSlider, IntSlider\n",
    "import ipywidgets as widgets\n",
    "from IPython.display import display\n",
    "widgets.VBox([widgets.Label('Hello World!'), \n",
    "              widgets.IntSlider(min=-10, max=30, step=1, value=0), \n",
    "              widgets.Checkbox(description='Check me out')])"
   ]
  },
  {
   "cell_type": "code",
   "execution_count": 59,
   "id": "cb6d936b",
   "metadata": {},
   "outputs": [],
   "source": [
    "def plot_interactive(tsteps, Lambda, epsilon, gamma):\n",
    "    t = np.arange(tsteps)\n",
    "    \n",
    "    ODEparam = dict()\n",
    "    ODEparam['lambda'] = Lambda\n",
    "    ODEparam['epsilon'] = epsilon\n",
    "    ODEparam['gamma'] = gamma\n",
    "    ODEparam['Phi'] = 0.7387755102040816\n",
    "    \n",
    "    S_k = len(CompartmentNodesDegreeK(G, k)[0])\n",
    "    E_k = len(CompartmentNodesDegreeK(G, k)[1])\n",
    "    I_k = len(CompartmentNodesDegreeK(G, k)[2])\n",
    "    R_k = len(CompartmentNodesDegreeK(G, k)[3])\n",
    "    initial_conditions = [S_k, E_k, I_k, R_k]\n",
    "    \n",
    "    soln = networkODE(t, k, initial_conditions, ODEparam)\n",
    "\n",
    "    S = soln[:, 0]\n",
    "    E = soln[:, 1]\n",
    "    I = soln[:, 2]\n",
    "    R = soln[:, 3]\n",
    "    \n",
    "    fig, ax = plt.subplots(figsize=(10, 8))\n",
    "    labels = ['Susceptible', 'Exposed', 'Infected', 'Recovered']\n",
    "    colors= ['blue', 'orange', 'red', 'green']\n",
    "    for i in range(4):\n",
    "        ax.plot(t, soln[:, i], label=labels[i], color=colors[i])\n",
    "    ax.set_xlabel('days')\n",
    "    ax.set_ylabel('Number of Individuals')\n",
    "    ax.legend();"
   ]
  },
  {
   "cell_type": "code",
   "execution_count": 60,
   "id": "93ed5e78",
   "metadata": {},
   "outputs": [
    {
     "data": {
      "application/vnd.jupyter.widget-view+json": {
       "model_id": "7fa96e599b714aabb76a2e589c6902d5",
       "version_major": 2,
       "version_minor": 0
      },
      "text/plain": [
       "interactive(children=(IntSlider(value=365, description='timesteps', max=1000), FloatSlider(value=0.1, descript…"
      ]
     },
     "metadata": {},
     "output_type": "display_data"
    }
   ],
   "source": [
    "# slider for time\n",
    "t_slider = IntSlider(value=365, min=0, max=1000, description='timesteps')\n",
    "\n",
    "# sliders for initial conditions\n",
    "#E_slider = IntSlider(value=E_init, min=0, max=1000000, step=1000, description='Exposed')\n",
    "#I_slider = IntSlider(value=I_init, min=0, max=N_init, step=100, description='Infected')\n",
    "#R_slider = IntSlider(value=R_init, min=0, max=N_init, step=100, description='Recovered')\n",
    "\n",
    "# sliders for parameters\n",
    "#Rt_slider = FloatSlider(value=Rt, min=0, max=10, step=.1, description='Rt')\n",
    "# beta_slider = FloatSlider(value=beta_init, min=0, max=1, step=.02, description='beta')\n",
    "lambda_slider = FloatSlider(value=ODEparam['lambda'], min=0, max=.5, step=.02, description='lambda')\n",
    "epsilon_slider = FloatSlider(value=ODEparam['epsilon'] , min=0, max=1, step=.02, description='epsilon')\n",
    "gamma_slider = FloatSlider(value=ODEparam['gamma'] , min=0, max=.5, step=.02, description='gamma')\n",
    "\n",
    "interact(plot_interactive, tsteps=t_slider, Lambda=lambda_slider, epsilon=epsilon_slider, gamma=gamma_slider);"
   ]
  },
  {
   "cell_type": "code",
   "execution_count": 108,
   "id": "b30404ae",
   "metadata": {},
   "outputs": [
    {
     "data": {
      "text/plain": [
       "<matplotlib.legend.Legend at 0x25c948c5760>"
      ]
     },
     "execution_count": 108,
     "metadata": {},
     "output_type": "execute_result"
    },
    {
     "data": {
      "image/png": "[encoded data removed]",
      "text/plain": [
       "<Figure size 576x576 with 1 Axes>"
      ]
     },
     "metadata": {
      "needs_background": "light"
     },
     "output_type": "display_data"
    }
   ],
   "source": [
    "# TEST: ALTERNATE ODE SOLUTION \n",
    "\n",
    "def make_seir(Lambda, epsilon, gamma, Phi):\n",
    "    #turn equations into update functions\n",
    "    \n",
    "    def deltaS(S, E, I, R):\n",
    "        return -Lambda*k*S*Phi\n",
    "    def deltaE(S, E, I, R):\n",
    "        return ((Lambda*k*S*Phi) - (epsilon*E))\n",
    "    def deltaI(S, E, I, R):\n",
    "        return ((epsilon*E)-(gamma*I))\n",
    "    def deltaR(S, E, I, R):\n",
    "        return gamma*I\n",
    "    \n",
    "    return (deltaS, deltaE, deltaI, deltaR)\n",
    "\n",
    "def epidemic_seir(T, k, Lambda, epsilon, gamma, Phi):\n",
    "    (deltaS, deltaE, deltaI, deltaR) = make_seir(Lambda, epsilon, gamma, Phi)\n",
    "    \n",
    "    sss = [len(CompartmentNodesDegreeK(G, k)[0])]\n",
    "    ess = [len(CompartmentNodesDegreeK(G, k)[1])]\n",
    "    iss = [len(CompartmentNodesDegreeK(G, k)[2])]\n",
    "    rss = [0]\n",
    "    \n",
    "    #print(\"\\time = 0 : \", sss[-1], ess[-1], iss[-1], rss[-1])\n",
    "    \n",
    "    for t in range(1,T):\n",
    "        #apply the change functions to the sub-populations of\n",
    "        #the previous timestep to compute the changes\n",
    "        dS = deltaS(sss[-1], ess[-1], iss[-1], rss[-1])\n",
    "        dE = deltaE(sss[-1], ess[-1], iss[-1], rss[-1])\n",
    "        dI = deltaI(sss[-1], ess[-1], iss[-1], rss[-1])\n",
    "        dR = deltaR(sss[-1], ess[-1], iss[-1], rss[-1])\n",
    "\n",
    "        #print(\"\\ntime = \", t)\n",
    "        #print(\"\\narray: \", sss[-1], ess[-1], iss[-1], rss[-1])\n",
    "        #print(\"\\nds: \", dS, \"\\nde: \", dE, \"\\ndi: \", dI, \"\\ndr: \", dR)\n",
    "\n",
    "        #the value at the next timestep are those at the\n",
    "        #previous timestep plus the value of the change in that value\n",
    "        sss.append(sss[-1] + dS)\n",
    "        ess.append(ess[-1] + dE)\n",
    "        iss.append(iss[-1] + dI)\n",
    "        rss.append(rss[-1] + dR)\n",
    "\n",
    "        #print(\"\\n end array: \", sss, ess, iss, rss)\n",
    "    \n",
    "    return (list(range(0,20)), sss, ess, iss, rss)\n",
    "\n",
    "T =20\n",
    "N=50\n",
    "Lambda = 0.1\n",
    "epsilon = 0.04\n",
    "gamma = 0.1\n",
    "Phi = 0.7191780821917808\n",
    "k = 10\n",
    "\n",
    "(ts, sss, ess, iss, rss) = epidemic_seir(T, k, Lambda, epsilon, gamma, Phi)\n",
    "#print(\"\\n\", ts, \"\\n\", sss, \"\\n\", ess, \"\\n\", iss, \"\\n\", rss)\n",
    "\n",
    "fig = plt.figure(figsize=(8, 8))\n",
    "ax = fig.gca()\n",
    "\n",
    "# Plots\n",
    "plt.plot(ts, sss, 'y', label='susceptible')\n",
    "plt.plot(ts, ess, 'tab:orange', label='exposed')\n",
    "plt.plot(ts, iss, 'r', label='infected')\n",
    "plt.plot(ts, rss, 'g', label='removed')\n",
    "\n",
    "# Set-Up\n",
    "\n",
    "#plt.title(f'Progress over a BA network \\n $(N = {N}, m = {param[BANetwork.M]} , \\\\lambda = {param[SEIR.P_INFECT_SYMPTOMATIC]}, \\\\epsilon = {param[SEIR.P_SYMPTOMS]}, \\\\gamma = {param[SEIR.P_REMOVE]})$')\n",
    "    \n",
    "plt.xlabel('time')\n",
    "ax.set_xlim([0, T])\n",
    "plt.ylabel('fraction of population that is...')\n",
    "ax.set_ylim([0.0, 15])\n",
    "plt.legend(loc = 'upper right')"
   ]
  }
 ],
 "metadata": {
  "kernelspec": {
   "display_name": "Python 3 (ipykernel)",
   "language": "python",
   "name": "python3"
  },
  "language_info": {
   "codemirror_mode": {
    "name": "ipython",
    "version": 3
   },
   "file_extension": ".py",
   "mimetype": "text/x-python",
   "name": "python",
   "nbconvert_exporter": "python",
   "pygments_lexer": "ipython3",
   "version": "3.9.12"
  }
 },
 "nbformat": 4,
 "nbformat_minor": 5
}
